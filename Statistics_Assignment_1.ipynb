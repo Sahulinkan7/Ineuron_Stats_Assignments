{
 "cells": [
  {
   "cell_type": "markdown",
   "id": "93a47c0f",
   "metadata": {},
   "source": [
    "# 1. What exactly is the difference between descriptive and inferential statistics?"
   ]
  },
  {
   "cell_type": "markdown",
   "id": "f3606848",
   "metadata": {},
   "source": [
    "Answer : \n",
    "\n",
    "Descriptive : \n",
    "As the name suggests, descriptive statistics is one which describes the population. Descriptive Statistics refers to a discipline that quantitatively describes the important characteristics of the dataset. For the purpose of describing properties, it uses measures of central tendency, i.e. mean, median, mode and the measures of dispersion i.e. range, standard deviation, quartile deviation and variance, etc.\n",
    "\n",
    "Inferential : \n",
    "Inferential Statistics is a type of statistics, that focuses on conclusions about the population, on the basis of sample analysis and observation. It includes comparision,tests and observations. It helps to take decision based on observations from sample data taken from population."
   ]
  },
  {
   "cell_type": "markdown",
   "id": "0ce16cd1",
   "metadata": {},
   "source": [
    "# 2. I'm not sure what is the difference between a sample and a population?"
   ]
  },
  {
   "cell_type": "markdown",
   "id": "34da99ea",
   "metadata": {},
   "source": [
    "Answer: \n",
    "\n",
    "in statistics population denotes a large group consisting of elements.whereas sample, which is nothing but a part of the population that is so selected to represent the entire group.\n",
    "\n",
    "population is generally indicated as 'N' and sample is indicated as 'n'"
   ]
  },
  {
   "cell_type": "markdown",
   "id": "f8320204",
   "metadata": {},
   "source": [
    "# 3. What distinguishes descriptive statistics from other types of statistics?"
   ]
  },
  {
   "cell_type": "markdown",
   "id": "6124ee2a",
   "metadata": {},
   "source": [
    "Answer : \n",
    "\n",
    "Desriptive statistics enables us to present the data in a more meaningful way, which allows simpler interpretation of the data. It includes measure of central tendency ( mean,median and mode ) to describe the data in a meaning full way . "
   ]
  },
  {
   "cell_type": "markdown",
   "id": "f2a772b2",
   "metadata": {},
   "source": [
    "# 4. What is the difference between quantitative and qualitative data?"
   ]
  },
  {
   "cell_type": "markdown",
   "id": "7c8c8eb5",
   "metadata": {},
   "source": [
    "Answer :\n",
    "    \n",
    "Quantitative data : The data which can be measured or quantified . It is of again two types. \n",
    "\n",
    "1 ) Discrete quantitative data . eg : Age of child\n",
    "     \n",
    "2 ) Continous quantitative data - which value can be contionous. eg : height,length,weight etc.\n",
    "            \n",
    "Qualitative Data : Data which are categorical. ex : Gender "
   ]
  },
  {
   "cell_type": "markdown",
   "id": "577eaeb8",
   "metadata": {},
   "source": [
    "# 5. What is the definition of a percentile?"
   ]
  },
  {
   "cell_type": "markdown",
   "id": "339f6bc9",
   "metadata": {},
   "source": [
    "Answer :\n",
    "\n",
    "Percentile is a value below which a percentage of observation lies based on criteria. "
   ]
  },
  {
   "cell_type": "code",
   "execution_count": null,
   "id": "597037a1",
   "metadata": {},
   "outputs": [],
   "source": []
  }
 ],
 "metadata": {
  "kernelspec": {
   "display_name": "Python 3 (ipykernel)",
   "language": "python",
   "name": "python3"
  },
  "language_info": {
   "codemirror_mode": {
    "name": "ipython",
    "version": 3
   },
   "file_extension": ".py",
   "mimetype": "text/x-python",
   "name": "python",
   "nbconvert_exporter": "python",
   "pygments_lexer": "ipython3",
   "version": "3.9.7"
  }
 },
 "nbformat": 4,
 "nbformat_minor": 5
}
